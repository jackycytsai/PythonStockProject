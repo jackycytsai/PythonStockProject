{
 "cells": [
  {
   "cell_type": "code",
   "execution_count": 17,
   "metadata": {},
   "outputs": [
    {
     "name": "stdout",
     "output_type": "stream",
     "text": [
      "Response Code: 0 | Event Code: 0 | Info: host '203.66.91.161:80', hostname '203.66.91.161:80' IP 203.66.91.161:80 (host 1 of 1) (host connection attempt 1 of 1) (total connection attempt 1 of 1) | Event: Session up\n",
      "Login\n"
     ]
    }
   ],
   "source": [
    "import time\n",
    "import shioaji as sj\n",
    "import pandas as pd\n",
    "from datetime import date\n",
    "import json\n",
    "import requests\n",
    "from google.oauth2.service_account import Credentials\n",
    "import gspread\n",
    "#from bucket import connect_storage\n",
    "\n",
    "#connect to storage\n",
    "#connect_storage()\n",
    "\n",
    "# Login\n",
    "api = sj.Shioaji(simulation=False) ###True為測試環境###\n",
    "api.login(\"55XZFbWTy1edQAkJF8dwtUyG6LGXMSULyPjBTMJKYGZ9\",\n",
    "        \"BHhdSj7FC7QSbu54Lc8FZ9bx819D1s6rzsdpF6sR5axK\")\n",
    "\n",
    "print('Login')\n",
    "\n",
    "auth_json_path = 'pythonsheetapi-384805-70a2e2836d4f.json'\n",
    "scope = ['https://www.googleapis.com/auth/spreadsheets']\n",
    "\n",
    "creds = Credentials.from_service_account_file(auth_json_path, scopes=scope)\n",
    "gs = gspread.authorize(creds)\n",
    "\n",
    "sheet = gs.open_by_url('https://docs.google.com/spreadsheets/d/1cOPhYayW8VHEkvGLqqveeL8mozyIzCh8x6U7jQB7Y_Q/edit#gid=0')\n",
    "worksheet = sheet.get_worksheet(0)\n",
    "\n",
    "positions = api.list_positions(api.futopt_account)\n",
    "df = pd.DataFrame(p.__dict__ for p in positions)\n",
    "df.drop(columns='id',inplace=True)\n",
    "df['Date'] = date.today().strftime('%Y-%m-%d')\n",
    "values = df.values.tolist()\n",
    "\n",
    "def update(values):\n",
    "    # Check row\n",
    "    list_of_lists = worksheet.get_all_values()\n",
    "    row_n = len(list_of_lists)\n",
    "\n",
    "    # Update the worksheet with the values\n",
    "    for sublist in values:\n",
    "        worksheet.insert_row(sublist, row_n + 1)  # Insert each value as a new row\n",
    "    \n",
    "    return 'Saved!'\n",
    "\n",
    "# Call the 'update' function with the values from the DataFrame\n",
    "result = update(values)"
   ]
  },
  {
   "cell_type": "code",
   "execution_count": 22,
   "metadata": {},
   "outputs": [],
   "source": [
    "positions = api.list_positions(api.futopt_account)\n",
    "df = pd.DataFrame(p.__dict__ for p in positions)"
   ]
  },
  {
   "cell_type": "code",
   "execution_count": 82,
   "metadata": {},
   "outputs": [
    {
     "data": {
      "text/plain": [
       "<Worksheet '工作表1' id:0>"
      ]
     },
     "execution_count": 82,
     "metadata": {},
     "output_type": "execute_result"
    }
   ],
   "source": [
    "def dailypnl():\n",
    "    #connect to storage\n",
    "    connect_storage()\n",
    "\n",
    "    # Login\n",
    "    api = sj.Shioaji(simulation=False) ###True為測試環境###\n",
    "    api.login(\"55XZFbWTy1edQAkJF8dwtUyG6LGXMSULyPjBTMJKYGZ9\",\n",
    "            \"BHhdSj7FC7QSbu54Lc8FZ9bx819D1s6rzsdpF6sR5axK\")\n",
    "\n",
    "    print('Login')\n",
    "\n",
    "    # Authorise\n",
    "    auth_json_path = 'tmp/pythonsheetapi-384805-70a2e2836d4f.json'\n",
    "    scope = ['https://www.googleapis.com/auth/spreadsheets']\n",
    "\n",
    "    creds = Credentials.from_service_account_file(auth_json_path, scopes=scope)\n",
    "    gs = gspread.authorize(creds)\n",
    "\n",
    "    # Connect to worksheet\n",
    "    sheet = gs.open_by_url('https://docs.google.com/spreadsheets/d/1cOPhYayW8VHEkvGLqqveeL8mozyIzCh8x6U7jQB7Y_Q/edit#gid=0')\n",
    "    worksheet = sheet.get_worksheet(0)\n",
    "\n",
    "    # Get Data\n",
    "    positions = api.list_positions(api.futopt_account)\n",
    "    df = pd.DataFrame(p.__dict__ for p in positions)\n",
    "    df.drop(columns='id',inplace=True)\n",
    "    df['Date'] = date.today().strftime('%Y-%m-%d')\n",
    "    values = df.values.tolist()\n",
    "\n",
    "    # Get a flattened list of values from the DataFrame\n",
    "    values = [val for sublist in df.values.tolist() for val in sublist]\n",
    "\n",
    "    def update(values):\n",
    "        # Check row\n",
    "        list_of_lists = worksheet.get_all_values()\n",
    "        row_n = len(list_of_lists)\n",
    "\n",
    "        # Update at last row\n",
    "        worksheet.insert_row(values, row_n+1) #插入values到第1列\n",
    "        \n",
    "        return 'Saved!'\n",
    "    \n",
    "    # Line notify\n",
    "    def lineNotifyMessage(msg):\n",
    "\n",
    "            headers = {\n",
    "            \"Authorization\": \"Bearer \" + 'jbScjQe6jY16zTILgQMN1REp6UHeJgCNAXFdJ82P8TZ', \n",
    "            \"Content-Type\" : \"application/x-www-form-urlencoded\"\n",
    "            }\n",
    "\n",
    "            payload = {'message': msg }\n",
    "            r = requests.post(\"https://notify-api.line.me/api/notify\", headers = headers, params = payload)\n",
    "\n",
    "    lineNotifyMessage(\"{} Data Inserted\".format(df))\n",
    "\n",
    "    # Call the 'update' function with the values from the DataFrame\n",
    "    update(values)\n",
    "    return \"Data Upadted\"\n",
    "\n",
    "    "
   ]
  },
  {
   "cell_type": "code",
   "execution_count": 96,
   "metadata": {},
   "outputs": [
    {
     "data": {
      "text/plain": [
       "[['MXFJ3', <Action.Buy: 'Buy'>, 2, 16321.0, 16307.0, -1400.0, '2023-09-28']]"
      ]
     },
     "execution_count": 96,
     "metadata": {},
     "output_type": "execute_result"
    }
   ],
   "source": [
    "df"
   ]
  },
  {
   "cell_type": "code",
   "execution_count": 91,
   "metadata": {},
   "outputs": [],
   "source": []
  },
  {
   "cell_type": "code",
   "execution_count": 92,
   "metadata": {},
   "outputs": [],
   "source": []
  },
  {
   "cell_type": "code",
   "execution_count": 31,
   "metadata": {},
   "outputs": [],
   "source": [
    "import pandas as pd\n",
    "import gspread\n",
    "from oauth2client.service_account import ServiceAccountCredentials\n",
    "from datetime import date\n"
   ]
  },
  {
   "cell_type": "code",
   "execution_count": 9,
   "metadata": {},
   "outputs": [
    {
     "ename": "AttributeError",
     "evalue": "'list' object has no attribute 'id'",
     "output_type": "error",
     "traceback": [
      "\u001b[1;31m---------------------------------------------------------------------------\u001b[0m",
      "\u001b[1;31mAttributeError\u001b[0m                            Traceback (most recent call last)",
      "\u001b[1;32mc:\\Users\\JXTSAI\\OneDrive - Katun Corporation\\Desktop\\SideProject\\LineBotWorkingArea\\test.ipynb Cell 3\u001b[0m line \u001b[0;36m6\n\u001b[0;32m      <a href='vscode-notebook-cell:/c%3A/Users/JXTSAI/OneDrive%20-%20Katun%20Corporation/Desktop/SideProject/LineBotWorkingArea/test.ipynb#W2sZmlsZQ%3D%3D?line=1'>2</a>\u001b[0m position \u001b[39m=\u001b[39m api\u001b[39m.\u001b[39mlist_positions(api\u001b[39m.\u001b[39mfutopt_account)\n\u001b[0;32m      <a href='vscode-notebook-cell:/c%3A/Users/JXTSAI/OneDrive%20-%20Katun%20Corporation/Desktop/SideProject/LineBotWorkingArea/test.ipynb#W2sZmlsZQ%3D%3D?line=3'>4</a>\u001b[0m \u001b[39m# Convert the FuturePosition object to a DataFrame\u001b[39;00m\n\u001b[0;32m      <a href='vscode-notebook-cell:/c%3A/Users/JXTSAI/OneDrive%20-%20Katun%20Corporation/Desktop/SideProject/LineBotWorkingArea/test.ipynb#W2sZmlsZQ%3D%3D?line=4'>5</a>\u001b[0m data \u001b[39m=\u001b[39m {\n\u001b[1;32m----> <a href='vscode-notebook-cell:/c%3A/Users/JXTSAI/OneDrive%20-%20Katun%20Corporation/Desktop/SideProject/LineBotWorkingArea/test.ipynb#W2sZmlsZQ%3D%3D?line=5'>6</a>\u001b[0m     \u001b[39m'\u001b[39m\u001b[39mid\u001b[39m\u001b[39m'\u001b[39m: [position\u001b[39m.\u001b[39;49mid],\n\u001b[0;32m      <a href='vscode-notebook-cell:/c%3A/Users/JXTSAI/OneDrive%20-%20Katun%20Corporation/Desktop/SideProject/LineBotWorkingArea/test.ipynb#W2sZmlsZQ%3D%3D?line=6'>7</a>\u001b[0m     \u001b[39m'\u001b[39m\u001b[39mcode\u001b[39m\u001b[39m'\u001b[39m: [position\u001b[39m.\u001b[39mcode],\n\u001b[0;32m      <a href='vscode-notebook-cell:/c%3A/Users/JXTSAI/OneDrive%20-%20Katun%20Corporation/Desktop/SideProject/LineBotWorkingArea/test.ipynb#W2sZmlsZQ%3D%3D?line=7'>8</a>\u001b[0m     \u001b[39m'\u001b[39m\u001b[39mdirection\u001b[39m\u001b[39m'\u001b[39m: [position\u001b[39m.\u001b[39mdirection\u001b[39m.\u001b[39mname],\n\u001b[0;32m      <a href='vscode-notebook-cell:/c%3A/Users/JXTSAI/OneDrive%20-%20Katun%20Corporation/Desktop/SideProject/LineBotWorkingArea/test.ipynb#W2sZmlsZQ%3D%3D?line=8'>9</a>\u001b[0m     \u001b[39m'\u001b[39m\u001b[39mquantity\u001b[39m\u001b[39m'\u001b[39m: [position\u001b[39m.\u001b[39mquantity],\n\u001b[0;32m     <a href='vscode-notebook-cell:/c%3A/Users/JXTSAI/OneDrive%20-%20Katun%20Corporation/Desktop/SideProject/LineBotWorkingArea/test.ipynb#W2sZmlsZQ%3D%3D?line=9'>10</a>\u001b[0m     \u001b[39m'\u001b[39m\u001b[39mprice\u001b[39m\u001b[39m'\u001b[39m: [position\u001b[39m.\u001b[39mprice],\n\u001b[0;32m     <a href='vscode-notebook-cell:/c%3A/Users/JXTSAI/OneDrive%20-%20Katun%20Corporation/Desktop/SideProject/LineBotWorkingArea/test.ipynb#W2sZmlsZQ%3D%3D?line=10'>11</a>\u001b[0m     \u001b[39m'\u001b[39m\u001b[39mlast_price\u001b[39m\u001b[39m'\u001b[39m: [position\u001b[39m.\u001b[39mlast_price],\n\u001b[0;32m     <a href='vscode-notebook-cell:/c%3A/Users/JXTSAI/OneDrive%20-%20Katun%20Corporation/Desktop/SideProject/LineBotWorkingArea/test.ipynb#W2sZmlsZQ%3D%3D?line=11'>12</a>\u001b[0m     \u001b[39m'\u001b[39m\u001b[39mpnl\u001b[39m\u001b[39m'\u001b[39m: [position\u001b[39m.\u001b[39mpnl]\n\u001b[0;32m     <a href='vscode-notebook-cell:/c%3A/Users/JXTSAI/OneDrive%20-%20Katun%20Corporation/Desktop/SideProject/LineBotWorkingArea/test.ipynb#W2sZmlsZQ%3D%3D?line=12'>13</a>\u001b[0m }\n\u001b[0;32m     <a href='vscode-notebook-cell:/c%3A/Users/JXTSAI/OneDrive%20-%20Katun%20Corporation/Desktop/SideProject/LineBotWorkingArea/test.ipynb#W2sZmlsZQ%3D%3D?line=14'>15</a>\u001b[0m df \u001b[39m=\u001b[39m pd\u001b[39m.\u001b[39mDataFrame(data)\n\u001b[0;32m     <a href='vscode-notebook-cell:/c%3A/Users/JXTSAI/OneDrive%20-%20Katun%20Corporation/Desktop/SideProject/LineBotWorkingArea/test.ipynb#W2sZmlsZQ%3D%3D?line=16'>17</a>\u001b[0m \u001b[39m# Print the DataFrame\u001b[39;00m\n",
      "\u001b[1;31mAttributeError\u001b[0m: 'list' object has no attribute 'id'"
     ]
    }
   ],
   "source": [
    "\n",
    "# Create a FuturePosition object\n",
    "position = api.list_positions(api.futopt_account)\n",
    "\n",
    "# Convert the FuturePosition object to a DataFrame\n",
    "data = {\n",
    "    'id': [position.id],\n",
    "    'code': [position.code],\n",
    "    'direction': [position.direction.name],\n",
    "    'quantity': [position.quantity],\n",
    "    'price': [position.price],\n",
    "    'last_price': [position.last_price],\n",
    "    'pnl': [position.pnl]\n",
    "}\n",
    "\n",
    "df = pd.DataFrame(data)\n",
    "\n",
    "# Print the DataFrame\n",
    "print(df)"
   ]
  },
  {
   "cell_type": "code",
   "execution_count": 12,
   "metadata": {},
   "outputs": [
    {
     "data": {
      "text/plain": [
       "[FuturePosition(id=0, code='MXFJ3', direction=<Action.Buy: 'Buy'>, quantity=2, price=16321.0, last_price=16335.0, pnl=1400.0)]"
      ]
     },
     "execution_count": 12,
     "metadata": {},
     "output_type": "execute_result"
    }
   ],
   "source": []
  }
 ],
 "metadata": {
  "kernelspec": {
   "display_name": "Python 3",
   "language": "python",
   "name": "python3"
  },
  "language_info": {
   "codemirror_mode": {
    "name": "ipython",
    "version": 3
   },
   "file_extension": ".py",
   "mimetype": "text/x-python",
   "name": "python",
   "nbconvert_exporter": "python",
   "pygments_lexer": "ipython3",
   "version": "3.9.0"
  },
  "orig_nbformat": 4
 },
 "nbformat": 4,
 "nbformat_minor": 2
}
