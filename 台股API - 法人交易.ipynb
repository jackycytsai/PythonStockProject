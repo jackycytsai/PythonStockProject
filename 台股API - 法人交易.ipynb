{
 "cells": [
  {
   "cell_type": "code",
   "execution_count": null,
   "metadata": {},
   "outputs": [],
   "source": [
    "import pandas as pd\n",
    "import pymysql\n",
    "import requests\n",
    "import datetime\n",
    "import time"
   ]
  },
  {
   "cell_type": "code",
   "execution_count": null,
   "metadata": {},
   "outputs": [],
   "source": [
    "# Open database connection\n",
    "db = pymysql.connect(\n",
    "host='127.0.0.1', port=3306, user='root', passwd='dish0263', db='stock', charset='utf8')\n",
    "\n",
    "cursor = db.cursor()\n",
    "\n",
    "create = \"\"\" CREATE TABLE major_capital(\n",
    "              日期 VARCHAR(20),\n",
    "              證券代號 VARCHAR(20),\n",
    "              證券名稱 VARCHAR(20),\n",
    "              外陸資買進股數_不含外資自營商 VARCHAR(20),\n",
    "              外陸資賣出股數_不含外資自營商 VARCHAR(20),\n",
    "              外陸資買賣超股數_不含外資自營商 VARCHAR(20),\n",
    "              外資自營商買進股數 VARCHAR(20),\n",
    "              外資自營商賣出股數 VARCHAR(20),\n",
    "              外資自營商買賣超股數 VARCHAR(20),\n",
    "              投信買進股數 VARCHAR(20),\n",
    "              投信賣出股數 VARCHAR(20),\n",
    "              投信買賣超股數 VARCHAR(20),\n",
    "              自營商買賣超股數 VARCHAR(20),\n",
    "              自營商買進股數_自行買賣 VARCHAR(20),\n",
    "              自營商賣出股數_自行買賣 VARCHAR(20),\n",
    "              自營商買賣超股數_自行買賣 VARCHAR(20),\n",
    "              自營商買進股數_避險 VARCHAR(20),\n",
    "              自營商賣出股數_避險 VARCHAR(20),\n",
    "              自營商買賣超股數_避險 VARCHAR(20),\n",
    "              三大法人買賣超股數 VARCHAR(20))\n",
    "        \"\"\"\n",
    "\n",
    "insert = \"\"\"INSERT INTO major_capital(\n",
    "              日期,\n",
    "              證券代號,\n",
    "              證券名稱,\n",
    "              外陸資買進股數_不含外資自營商,\n",
    "              外陸資賣出股數_不含外資自營商,\n",
    "              外陸資買賣超股數_不含外資自營商,\n",
    "              外資自營商買進股數,\n",
    "              外資自營商賣出股數,\n",
    "              外資自營商買賣超股數,\n",
    "              投信買進股數,\n",
    "              投信賣出股數,\n",
    "              投信買賣超股數,\n",
    "              自營商買賣超股數,\n",
    "              自營商買進股數_自行買賣,\n",
    "              自營商賣出股數_自行買賣,\n",
    "              自營商買賣超股數_自行買賣,\n",
    "              自營商買進股數_避險,\n",
    "              自營商賣出股數_避險,\n",
    "              自營商買賣超股數_避險,\n",
    "              三大法人買賣超股數) VALUES (%s,%s,%s,%s,%s,%s,%s,%s,%s,%s,%s,%s,%s,%s,%s,%s,%s,%s,%s,%s)\n",
    "               \"\"\"\n",
    "\n",
    "drop = \"\"\"DROP TABLE major_capital\"\"\""
   ]
  },
  {
   "cell_type": "code",
   "execution_count": null,
   "metadata": {},
   "outputs": [],
   "source": [
    "def daily_capital(date):\n",
    "    \n",
    "    TWSE_URL = f'http://www.twse.com.tw/fund/T86?response=json&date={date}&selectType=ALL'\n",
    "    response = requests.get(TWSE_URL)\n",
    "    data = response.json()\n",
    "    \n",
    "    if data['stat'] == 'OK':\n",
    "        df = pd.DataFrame.from_dict(data[\"data\"])  \n",
    "        df.columns = data[\"fields\"]\n",
    "        df.insert(0,'日期',data['date'])\n",
    "        return df"
   ]
  },
  {
   "cell_type": "code",
   "execution_count": null,
   "metadata": {},
   "outputs": [],
   "source": [
    "#創建 table\n",
    "cursor.execute(create)"
   ]
  },
  {
   "cell_type": "code",
   "execution_count": null,
   "metadata": {},
   "outputs": [],
   "source": [
    "#獲取歷史資料\n",
    "\n",
    "start = '2022-2-16'\n",
    "today = datetime.date.today()\n",
    "\n",
    "#yesterday = datetime.date.today() + datetime.timedelta(days=-1)\n",
    "\n",
    "for i in pd.date_range(start, today)[::-1]:\n",
    "    print(i.strftime('%Y%m%d'))\n",
    "    df = daily_capital(i.strftime('%Y%m%d'))\n",
    "    time.sleep(10)\n",
    "    for i in range(len(df)):\n",
    "        x = tuple(df.loc[i])\n",
    "        cursor.execute(insert,x)"
   ]
  },
  {
   "cell_type": "code",
   "execution_count": null,
   "metadata": {},
   "outputs": [],
   "source": [
    "#儲存變更\n",
    "db.commit()"
   ]
  },
  {
   "cell_type": "code",
   "execution_count": null,
   "metadata": {},
   "outputs": [],
   "source": [
    "#查詢\n",
    "select = \"\"\"select * from major_capital where 證券代號 = '2330'\n",
    "            \"\"\"\n",
    "cursor.execute(select)\n",
    "\n",
    "results = cursor.fetchall()"
   ]
  },
  {
   "cell_type": "code",
   "execution_count": null,
   "metadata": {},
   "outputs": [],
   "source": [
    "results"
   ]
  },
  {
   "cell_type": "code",
   "execution_count": null,
   "metadata": {},
   "outputs": [],
   "source": []
  }
 ],
 "metadata": {
  "kernelspec": {
   "display_name": "Python 3",
   "language": "python",
   "name": "python3"
  },
  "language_info": {
   "codemirror_mode": {
    "name": "ipython",
    "version": 3
   },
   "file_extension": ".py",
   "mimetype": "text/x-python",
   "name": "python",
   "nbconvert_exporter": "python",
   "pygments_lexer": "ipython3",
   "version": "3.7.9"
  }
 },
 "nbformat": 4,
 "nbformat_minor": 4
}
