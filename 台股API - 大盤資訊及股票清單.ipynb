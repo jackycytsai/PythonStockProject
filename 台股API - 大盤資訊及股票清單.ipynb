{
 "cells": [
  {
   "cell_type": "code",
   "execution_count": null,
   "metadata": {},
   "outputs": [],
   "source": [
    "import pandas as pd\n",
    "import pymysql\n",
    "import requests\n",
    "import datetime\n",
    "import time"
   ]
  },
  {
   "cell_type": "code",
   "execution_count": null,
   "metadata": {},
   "outputs": [],
   "source": [
    "def market_index(date):\n",
    "    url = f'https://www.twse.com.tw/fund/exchangeReport/FMTQIK?response=json&date={date}'\n",
    "    response = requests.get(url)\n",
    "    data = response.json()\n",
    "    \n",
    "    if data['stat'] == 'OK':\n",
    "        df = pd.DataFrame.from_dict(data[\"data\"])  \n",
    "        df.columns = data[\"fields\"]\n",
    "        return df"
   ]
  },
  {
   "cell_type": "code",
   "execution_count": null,
   "metadata": {},
   "outputs": [],
   "source": [
    "# Open database connection\n",
    "db = pymysql.connect(\n",
    "host='127.0.0.1', port=3306, user='root', passwd='dish0263', db='stock', charset='utf8')\n",
    "\n",
    "cursor = db.cursor()\n",
    "\n",
    "create = \"\"\" CREATE TABLE market_index(\n",
    "                日期 DATE, \n",
    "                成交股數 VARCHAR(20), \n",
    "                成交金額 VARCHAR(20), \n",
    "                成交筆數 VARCHAR(20), \n",
    "                發行量加權股價指數 VARCHAR(20), \n",
    "                漲跌點數 VARCHAR(20))\n",
    "         \"\"\"\n",
    "\n",
    "insert = \"\"\"INSERT INTO market_index(\n",
    "                日期, \n",
    "                成交股數, \n",
    "                成交金額, \n",
    "                成交筆數, \n",
    "                發行量加權股價指數, \n",
    "                漲跌點數) VALUES (%s,%s,%s,%s,%s,%s)\n",
    "         \"\"\"\n",
    "\n",
    "drop = \"\"\"DROP TABLE market_index\"\"\""
   ]
  },
  {
   "cell_type": "code",
   "execution_count": null,
   "metadata": {},
   "outputs": [],
   "source": [
    "#創建 table\n",
    "cursor.execute(create)"
   ]
  },
  {
   "cell_type": "code",
   "execution_count": null,
   "metadata": {},
   "outputs": [],
   "source": [
    "#新增資料\n",
    "for i in range(len(df)):\n",
    "    x = tuple(df.loc[i])\n",
    "    cursor.execute(insert,x)"
   ]
  },
  {
   "cell_type": "code",
   "execution_count": null,
   "metadata": {},
   "outputs": [],
   "source": [
    "#儲存變更\n",
    "db.commit()"
   ]
  },
  {
   "cell_type": "code",
   "execution_count": null,
   "metadata": {},
   "outputs": [],
   "source": [
    "def stock(date):\n",
    "    url = f'https://www.twse.com.tw/exchangeReport/STOCK_DAY_ALL?response=json&date={date}&type=MS'\n",
    "    res = requests.get(url)\n",
    "    data = res.json()\n",
    "    \n",
    "    if data['stat'] == 'OK':\n",
    "        df = pd.DataFrame.from_dict(data[\"data\"])  \n",
    "        df.columns = data[\"fields\"]\n",
    "        df.insert(0,'日期',data['date'])\n",
    "        return df"
   ]
  },
  {
   "cell_type": "code",
   "execution_count": null,
   "metadata": {},
   "outputs": [],
   "source": [
    "create = \"\"\" CREATE TABLE stock(\n",
    "                日期 DATE, \n",
    "                證券代號 VARCHAR(20),\n",
    "                成交股數 VARCHAR(20),\n",
    "                證券名稱 VARCHAR(20), \n",
    "                成交金額 VARCHAR(20), \n",
    "                開盤價 VARCHAR(20), \n",
    "                最高價 VARCHAR(20),\n",
    "                最低價 VARCHAR(20),\n",
    "                收盤價 VARCHAR(20),\n",
    "                漲跌價差 VARCHAR(20),\n",
    "                成交筆數 VARCHAR(20))\n",
    "         \"\"\"\n",
    "\n",
    "insert = \"\"\"INSERT INTO stock(\n",
    "              日期, \n",
    "              證券代號,\n",
    "              證券名稱,\n",
    "              成交股數,\n",
    "              成交金額,\n",
    "              開盤價,\n",
    "              最高價,\n",
    "              最低價,\n",
    "              收盤價,\n",
    "              漲跌價差,\n",
    "              成交筆數) VALUES (%s,%s,%s,%s,%s,%s,%s,%s,%s,%s,%s)\n",
    "         \"\"\"\n",
    "drop = \"\"\"DROP TABLE stock\"\"\""
   ]
  },
  {
   "cell_type": "code",
   "execution_count": null,
   "metadata": {},
   "outputs": [],
   "source": [
    "#創建 table\n",
    "cursor.execute(create)"
   ]
  },
  {
   "cell_type": "code",
   "execution_count": null,
   "metadata": {},
   "outputs": [],
   "source": [
    "#獲取歷史資料\n",
    "\n",
    "start = '2022-2-16'\n",
    "today = datetime.date.today()\n",
    "\n",
    "#yesterday = datetime.date.today() + datetime.timedelta(days=-1)\n",
    "\n",
    "for i in pd.date_range(start, today)[::-1]:\n",
    "    print(i.strftime('%Y%m%d'))\n",
    "    df = stock(i.strftime('%Y%m%d'))\n",
    "    time.sleep(10)\n",
    "    for i in range(len(df)):\n",
    "        x = tuple(df.loc[i])\n",
    "        cursor.execute(insert,x)"
   ]
  },
  {
   "cell_type": "code",
   "execution_count": null,
   "metadata": {},
   "outputs": [],
   "source": [
    "#儲存變更\n",
    "db.commit()"
   ]
  },
  {
   "cell_type": "code",
   "execution_count": null,
   "metadata": {},
   "outputs": [],
   "source": [
    "#股票清單\n",
    "res = requests.get(\"http://isin.twse.com.tw/isin/C_public.jsp?strMode=2\")\n",
    "df = pd.read_html(res.text)[0]\n",
    "\n",
    "# 設定column名稱\n",
    "\n",
    "df.columns = df.iloc[0]\n",
    "\n",
    "# 刪除前兩行\n",
    "df = df.iloc[2:]\n",
    "\n",
    "# 欄位分割並重設\n",
    "df.insert(0,'證券代號',df['有價證券代號及名稱'].str[:4])\n",
    "df.insert(0,'證券名稱',df['有價證券代號及名稱'].str[5:].str.replace('T',''))\n",
    "\n",
    "# 刪除無用欄位\n",
    "df = df.drop(columns=['備註','有價證券代號及名稱'])"
   ]
  },
  {
   "cell_type": "code",
   "execution_count": null,
   "metadata": {},
   "outputs": [],
   "source": []
  }
 ],
 "metadata": {
  "kernelspec": {
   "display_name": "Python 3",
   "language": "python",
   "name": "python3"
  },
  "language_info": {
   "codemirror_mode": {
    "name": "ipython",
    "version": 3
   },
   "file_extension": ".py",
   "mimetype": "text/x-python",
   "name": "python",
   "nbconvert_exporter": "python",
   "pygments_lexer": "ipython3",
   "version": "3.7.9"
  }
 },
 "nbformat": 4,
 "nbformat_minor": 4
}
